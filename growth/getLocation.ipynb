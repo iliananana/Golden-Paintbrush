{
 "cells": [
  {
   "cell_type": "code",
   "execution_count": 6,
   "metadata": {},
   "outputs": [],
   "source": [
    "from datetime import datetime, timedelta\n",
    "\n",
    "import ipyplot\n",
    "from dateutil.relativedelta import relativedelta\n",
    "from IPython.display import Image\n",
    "from pyinaturalist import (\n",
    "    ICONIC_TAXA,\n",
    "    Observation,\n",
    "    TaxonCount,\n",
    "    UserCount,\n",
    "    enable_logging,\n",
    "    get_observation_histogram,\n",
    "    get_observation_identifiers,\n",
    "    get_observation_observers,\n",
    "    get_observation_species_counts,\n",
    "    get_observations,\n",
    "    pprint,\n",
    ")\n",
    "from rich import print\n",
    "\n",
    "enable_logging()"
   ]
  },
  {
   "cell_type": "code",
   "execution_count": 12,
   "metadata": {},
   "outputs": [
    {
     "data": {
      "text/html": [
       "<pre style=\"white-space:pre;overflow-x:auto;line-height:normal;font-family:Menlo,'DejaVu Sans Mono',consolas,'Courier New',monospace\"><span style=\"color: #7fbfbf; text-decoration-color: #7fbfbf\">[04-03 12:48:44] </span><span style=\"color: #000080; text-decoration-color: #000080\">INFO    </span> Request:                                             <a href=\"file:///s/babbage/b/nobackup/nblancha/merry/conda/envs/deja/lib/python3.9/site-packages/pyinaturalist/session.py\"><span style=\"color: #7f7f7f; text-decoration-color: #7f7f7f\">session.py</span></a><span style=\"color: #7f7f7f; text-decoration-color: #7f7f7f\">:</span><a href=\"file:///s/babbage/b/nobackup/nblancha/merry/conda/envs/deja/lib/python3.9/site-packages/pyinaturalist/session.py#297\"><span style=\"color: #7f7f7f; text-decoration-color: #7f7f7f\">297</span></a>\n",
       "                          <span style=\"color: #808000; text-decoration-color: #808000; font-weight: bold\">GET</span> <span style=\"color: #0000ff; text-decoration-color: #0000ff; text-decoration: underline\">https://api.inaturalist.org/v1/observations?taxo</span>               \n",
       "                          <span style=\"color: #0000ff; text-decoration-color: #0000ff; text-decoration: underline\">n_name=Golden+Indian+Paintbrush&amp;per_page=200&amp;order_b</span>               \n",
       "                          <span style=\"color: #0000ff; text-decoration-color: #0000ff; text-decoration: underline\">y=id&amp;order=asc</span>                                                     \n",
       "                          User-Agent: python-requests/<span style=\"color: #008080; text-decoration-color: #008080; font-weight: bold\">2.28</span>.<span style=\"color: #008080; text-decoration-color: #008080; font-weight: bold\">1</span>                                 \n",
       "                          pyinaturalist/<span style=\"color: #008080; text-decoration-color: #008080; font-weight: bold\">0.19</span>.<span style=\"color: #008080; text-decoration-color: #008080; font-weight: bold\">0</span>                                               \n",
       "                          Accept-Encoding: gzip, deflate, br                                 \n",
       "                          Accept: application/json                                           \n",
       "                          Connection: keep-alive                                             \n",
       "                                                                                             \n",
       "</pre>\n"
      ],
      "text/plain": [
       "\u001b[2;36m[04-03 12:48:44]\u001b[0m\u001b[2;36m \u001b[0m\u001b[34mINFO    \u001b[0m Request:                                             \u001b]8;id=348710;file:///s/babbage/b/nobackup/nblancha/merry/conda/envs/deja/lib/python3.9/site-packages/pyinaturalist/session.py\u001b\\\u001b[2msession.py\u001b[0m\u001b]8;;\u001b\\\u001b[2m:\u001b[0m\u001b]8;id=717211;file:///s/babbage/b/nobackup/nblancha/merry/conda/envs/deja/lib/python3.9/site-packages/pyinaturalist/session.py#297\u001b\\\u001b[2m297\u001b[0m\u001b]8;;\u001b\\\n",
       "                          \u001b[1;33mGET\u001b[0m \u001b[4;94mhttps://api.inaturalist.org/v1/observations?\u001b[0m\u001b[4;94mtaxo\u001b[0m               \n",
       "                          \u001b[4;94mn_name\u001b[0m\u001b[4;94m=\u001b[0m\u001b[4;94mGolden\u001b[0m\u001b[4;94m+Indian+Paintbrush&\u001b[0m\u001b[4;94mper_page\u001b[0m\u001b[4;94m=\u001b[0m\u001b[4;94m200\u001b[0m\u001b[4;94m&\u001b[0m\u001b[4;94morder_b\u001b[0m               \n",
       "                          \u001b[4;94my\u001b[0m\u001b[4;94m=\u001b[0m\u001b[4;94mid\u001b[0m\u001b[4;94m&\u001b[0m\u001b[4;94morder\u001b[0m\u001b[4;94m=\u001b[0m\u001b[4;94masc\u001b[0m                                                     \n",
       "                          User-Agent: python-requests/\u001b[1;36m2.28\u001b[0m.\u001b[1;36m1\u001b[0m                                 \n",
       "                          pyinaturalist/\u001b[1;36m0.19\u001b[0m.\u001b[1;36m0\u001b[0m                                               \n",
       "                          Accept-Encoding: gzip, deflate, br                                 \n",
       "                          Accept: application/json                                           \n",
       "                          Connection: keep-alive                                             \n",
       "                                                                                             \n"
      ]
     },
     "metadata": {},
     "output_type": "display_data"
    },
    {
     "data": {
      "text/html": [
       "<pre style=\"white-space:pre;overflow-x:auto;line-height:normal;font-family:Menlo,'DejaVu Sans Mono',consolas,'Courier New',monospace\"><span style=\"color: #7fbfbf; text-decoration-color: #7fbfbf\">[04-03 12:48:50] </span><span style=\"color: #000080; text-decoration-color: #000080\">INFO    </span> This query will fetch <span style=\"color: #008080; text-decoration-color: #008080; font-weight: bold\">902</span> results in <span style=\"color: #008080; text-decoration-color: #008080; font-weight: bold\">5</span> requests.   <a href=\"file:///s/babbage/b/nobackup/nblancha/merry/conda/envs/deja/lib/python3.9/site-packages/pyinaturalist/paginator.py\"><span style=\"color: #7f7f7f; text-decoration-color: #7f7f7f\">paginator.py</span></a><span style=\"color: #7f7f7f; text-decoration-color: #7f7f7f\">:</span><a href=\"file:///s/babbage/b/nobackup/nblancha/merry/conda/envs/deja/lib/python3.9/site-packages/pyinaturalist/paginator.py#199\"><span style=\"color: #7f7f7f; text-decoration-color: #7f7f7f\">199</span></a>\n",
       "                          Estimated total request time: <span style=\"color: #008080; text-decoration-color: #008080; font-weight: bold\">4</span> seconds                            \n",
       "</pre>\n"
      ],
      "text/plain": [
       "\u001b[2;36m[04-03 12:48:50]\u001b[0m\u001b[2;36m \u001b[0m\u001b[34mINFO    \u001b[0m This query will fetch \u001b[1;36m902\u001b[0m results in \u001b[1;36m5\u001b[0m requests.   \u001b]8;id=961883;file:///s/babbage/b/nobackup/nblancha/merry/conda/envs/deja/lib/python3.9/site-packages/pyinaturalist/paginator.py\u001b\\\u001b[2mpaginator.py\u001b[0m\u001b]8;;\u001b\\\u001b[2m:\u001b[0m\u001b]8;id=286609;file:///s/babbage/b/nobackup/nblancha/merry/conda/envs/deja/lib/python3.9/site-packages/pyinaturalist/paginator.py#199\u001b\\\u001b[2m199\u001b[0m\u001b]8;;\u001b\\\n",
       "                          Estimated total request time: \u001b[1;36m4\u001b[0m seconds                            \n"
      ]
     },
     "metadata": {},
     "output_type": "display_data"
    },
    {
     "data": {
      "text/html": [
       "<pre style=\"white-space:pre;overflow-x:auto;line-height:normal;font-family:Menlo,'DejaVu Sans Mono',consolas,'Courier New',monospace\"><span style=\"color: #7fbfbf; text-decoration-color: #7fbfbf\">                 </span><span style=\"color: #000080; text-decoration-color: #000080\">INFO    </span> Request:                                             <a href=\"file:///s/babbage/b/nobackup/nblancha/merry/conda/envs/deja/lib/python3.9/site-packages/pyinaturalist/session.py\"><span style=\"color: #7f7f7f; text-decoration-color: #7f7f7f\">session.py</span></a><span style=\"color: #7f7f7f; text-decoration-color: #7f7f7f\">:</span><a href=\"file:///s/babbage/b/nobackup/nblancha/merry/conda/envs/deja/lib/python3.9/site-packages/pyinaturalist/session.py#297\"><span style=\"color: #7f7f7f; text-decoration-color: #7f7f7f\">297</span></a>\n",
       "                          <span style=\"color: #808000; text-decoration-color: #808000; font-weight: bold\">GET</span> <span style=\"color: #0000ff; text-decoration-color: #0000ff; text-decoration: underline\">https://api.inaturalist.org/v1/observations?taxo</span>               \n",
       "                          <span style=\"color: #0000ff; text-decoration-color: #0000ff; text-decoration: underline\">n_name=Golden+Indian+Paintbrush&amp;id_above=43861282&amp;pe</span>               \n",
       "                          <span style=\"color: #0000ff; text-decoration-color: #0000ff; text-decoration: underline\">r_page=200&amp;order_by=id&amp;order=asc</span>                                   \n",
       "                          User-Agent: python-requests/<span style=\"color: #008080; text-decoration-color: #008080; font-weight: bold\">2.28</span>.<span style=\"color: #008080; text-decoration-color: #008080; font-weight: bold\">1</span>                                 \n",
       "                          pyinaturalist/<span style=\"color: #008080; text-decoration-color: #008080; font-weight: bold\">0.19</span>.<span style=\"color: #008080; text-decoration-color: #008080; font-weight: bold\">0</span>                                               \n",
       "                          Accept-Encoding: gzip, deflate, br                                 \n",
       "                          Accept: application/json                                           \n",
       "                          Connection: keep-alive                                             \n",
       "                                                                                             \n",
       "</pre>\n"
      ],
      "text/plain": [
       "\u001b[2;36m                \u001b[0m\u001b[2;36m \u001b[0m\u001b[34mINFO    \u001b[0m Request:                                             \u001b]8;id=303716;file:///s/babbage/b/nobackup/nblancha/merry/conda/envs/deja/lib/python3.9/site-packages/pyinaturalist/session.py\u001b\\\u001b[2msession.py\u001b[0m\u001b]8;;\u001b\\\u001b[2m:\u001b[0m\u001b]8;id=558528;file:///s/babbage/b/nobackup/nblancha/merry/conda/envs/deja/lib/python3.9/site-packages/pyinaturalist/session.py#297\u001b\\\u001b[2m297\u001b[0m\u001b]8;;\u001b\\\n",
       "                          \u001b[1;33mGET\u001b[0m \u001b[4;94mhttps://api.inaturalist.org/v1/observations?\u001b[0m\u001b[4;94mtaxo\u001b[0m               \n",
       "                          \u001b[4;94mn_name\u001b[0m\u001b[4;94m=\u001b[0m\u001b[4;94mGolden\u001b[0m\u001b[4;94m+Indian+Paintbrush&\u001b[0m\u001b[4;94mid_above\u001b[0m\u001b[4;94m=\u001b[0m\u001b[4;94m43861282\u001b[0m\u001b[4;94m&\u001b[0m\u001b[4;94mpe\u001b[0m               \n",
       "                          \u001b[4;94mr_page\u001b[0m\u001b[4;94m=\u001b[0m\u001b[4;94m200\u001b[0m\u001b[4;94m&\u001b[0m\u001b[4;94morder_by\u001b[0m\u001b[4;94m=\u001b[0m\u001b[4;94mid\u001b[0m\u001b[4;94m&\u001b[0m\u001b[4;94morder\u001b[0m\u001b[4;94m=\u001b[0m\u001b[4;94masc\u001b[0m                                   \n",
       "                          User-Agent: python-requests/\u001b[1;36m2.28\u001b[0m.\u001b[1;36m1\u001b[0m                                 \n",
       "                          pyinaturalist/\u001b[1;36m0.19\u001b[0m.\u001b[1;36m0\u001b[0m                                               \n",
       "                          Accept-Encoding: gzip, deflate, br                                 \n",
       "                          Accept: application/json                                           \n",
       "                          Connection: keep-alive                                             \n",
       "                                                                                             \n"
      ]
     },
     "metadata": {},
     "output_type": "display_data"
    },
    {
     "data": {
      "text/html": [
       "<pre style=\"white-space:pre;overflow-x:auto;line-height:normal;font-family:Menlo,'DejaVu Sans Mono',consolas,'Courier New',monospace\"><span style=\"color: #7fbfbf; text-decoration-color: #7fbfbf\">[04-03 12:48:56] </span><span style=\"color: #000080; text-decoration-color: #000080\">INFO    </span> Request:                                             <a href=\"file:///s/babbage/b/nobackup/nblancha/merry/conda/envs/deja/lib/python3.9/site-packages/pyinaturalist/session.py\"><span style=\"color: #7f7f7f; text-decoration-color: #7f7f7f\">session.py</span></a><span style=\"color: #7f7f7f; text-decoration-color: #7f7f7f\">:</span><a href=\"file:///s/babbage/b/nobackup/nblancha/merry/conda/envs/deja/lib/python3.9/site-packages/pyinaturalist/session.py#297\"><span style=\"color: #7f7f7f; text-decoration-color: #7f7f7f\">297</span></a>\n",
       "                          <span style=\"color: #808000; text-decoration-color: #808000; font-weight: bold\">GET</span> <span style=\"color: #0000ff; text-decoration-color: #0000ff; text-decoration: underline\">https://api.inaturalist.org/v1/observations?taxo</span>               \n",
       "                          <span style=\"color: #0000ff; text-decoration-color: #0000ff; text-decoration: underline\">n_name=Golden+Indian+Paintbrush&amp;id_above=83530083&amp;pe</span>               \n",
       "                          <span style=\"color: #0000ff; text-decoration-color: #0000ff; text-decoration: underline\">r_page=200&amp;order_by=id&amp;order=asc</span>                                   \n",
       "                          User-Agent: python-requests/<span style=\"color: #008080; text-decoration-color: #008080; font-weight: bold\">2.28</span>.<span style=\"color: #008080; text-decoration-color: #008080; font-weight: bold\">1</span>                                 \n",
       "                          pyinaturalist/<span style=\"color: #008080; text-decoration-color: #008080; font-weight: bold\">0.19</span>.<span style=\"color: #008080; text-decoration-color: #008080; font-weight: bold\">0</span>                                               \n",
       "                          Accept-Encoding: gzip, deflate, br                                 \n",
       "                          Accept: application/json                                           \n",
       "                          Connection: keep-alive                                             \n",
       "                                                                                             \n",
       "</pre>\n"
      ],
      "text/plain": [
       "\u001b[2;36m[04-03 12:48:56]\u001b[0m\u001b[2;36m \u001b[0m\u001b[34mINFO    \u001b[0m Request:                                             \u001b]8;id=477346;file:///s/babbage/b/nobackup/nblancha/merry/conda/envs/deja/lib/python3.9/site-packages/pyinaturalist/session.py\u001b\\\u001b[2msession.py\u001b[0m\u001b]8;;\u001b\\\u001b[2m:\u001b[0m\u001b]8;id=546286;file:///s/babbage/b/nobackup/nblancha/merry/conda/envs/deja/lib/python3.9/site-packages/pyinaturalist/session.py#297\u001b\\\u001b[2m297\u001b[0m\u001b]8;;\u001b\\\n",
       "                          \u001b[1;33mGET\u001b[0m \u001b[4;94mhttps://api.inaturalist.org/v1/observations?\u001b[0m\u001b[4;94mtaxo\u001b[0m               \n",
       "                          \u001b[4;94mn_name\u001b[0m\u001b[4;94m=\u001b[0m\u001b[4;94mGolden\u001b[0m\u001b[4;94m+Indian+Paintbrush&\u001b[0m\u001b[4;94mid_above\u001b[0m\u001b[4;94m=\u001b[0m\u001b[4;94m83530083\u001b[0m\u001b[4;94m&\u001b[0m\u001b[4;94mpe\u001b[0m               \n",
       "                          \u001b[4;94mr_page\u001b[0m\u001b[4;94m=\u001b[0m\u001b[4;94m200\u001b[0m\u001b[4;94m&\u001b[0m\u001b[4;94morder_by\u001b[0m\u001b[4;94m=\u001b[0m\u001b[4;94mid\u001b[0m\u001b[4;94m&\u001b[0m\u001b[4;94morder\u001b[0m\u001b[4;94m=\u001b[0m\u001b[4;94masc\u001b[0m                                   \n",
       "                          User-Agent: python-requests/\u001b[1;36m2.28\u001b[0m.\u001b[1;36m1\u001b[0m                                 \n",
       "                          pyinaturalist/\u001b[1;36m0.19\u001b[0m.\u001b[1;36m0\u001b[0m                                               \n",
       "                          Accept-Encoding: gzip, deflate, br                                 \n",
       "                          Accept: application/json                                           \n",
       "                          Connection: keep-alive                                             \n",
       "                                                                                             \n"
      ]
     },
     "metadata": {},
     "output_type": "display_data"
    },
    {
     "data": {
      "text/html": [
       "<pre style=\"white-space:pre;overflow-x:auto;line-height:normal;font-family:Menlo,'DejaVu Sans Mono',consolas,'Courier New',monospace\"><span style=\"color: #7fbfbf; text-decoration-color: #7fbfbf\">[04-03 12:49:00] </span><span style=\"color: #000080; text-decoration-color: #000080\">INFO    </span> Request:                                             <a href=\"file:///s/babbage/b/nobackup/nblancha/merry/conda/envs/deja/lib/python3.9/site-packages/pyinaturalist/session.py\"><span style=\"color: #7f7f7f; text-decoration-color: #7f7f7f\">session.py</span></a><span style=\"color: #7f7f7f; text-decoration-color: #7f7f7f\">:</span><a href=\"file:///s/babbage/b/nobackup/nblancha/merry/conda/envs/deja/lib/python3.9/site-packages/pyinaturalist/session.py#297\"><span style=\"color: #7f7f7f; text-decoration-color: #7f7f7f\">297</span></a>\n",
       "                          <span style=\"color: #808000; text-decoration-color: #808000; font-weight: bold\">GET</span> <span style=\"color: #0000ff; text-decoration-color: #0000ff; text-decoration: underline\">https://api.inaturalist.org/v1/observations?taxo</span>               \n",
       "                          <span style=\"color: #0000ff; text-decoration-color: #0000ff; text-decoration: underline\">n_name=Golden+Indian+Paintbrush&amp;id_above=120400643&amp;p</span>               \n",
       "                          <span style=\"color: #0000ff; text-decoration-color: #0000ff; text-decoration: underline\">er_page=200&amp;order_by=id&amp;order=asc</span>                                  \n",
       "                          User-Agent: python-requests/<span style=\"color: #008080; text-decoration-color: #008080; font-weight: bold\">2.28</span>.<span style=\"color: #008080; text-decoration-color: #008080; font-weight: bold\">1</span>                                 \n",
       "                          pyinaturalist/<span style=\"color: #008080; text-decoration-color: #008080; font-weight: bold\">0.19</span>.<span style=\"color: #008080; text-decoration-color: #008080; font-weight: bold\">0</span>                                               \n",
       "                          Accept-Encoding: gzip, deflate, br                                 \n",
       "                          Accept: application/json                                           \n",
       "                          Connection: keep-alive                                             \n",
       "                                                                                             \n",
       "</pre>\n"
      ],
      "text/plain": [
       "\u001b[2;36m[04-03 12:49:00]\u001b[0m\u001b[2;36m \u001b[0m\u001b[34mINFO    \u001b[0m Request:                                             \u001b]8;id=345411;file:///s/babbage/b/nobackup/nblancha/merry/conda/envs/deja/lib/python3.9/site-packages/pyinaturalist/session.py\u001b\\\u001b[2msession.py\u001b[0m\u001b]8;;\u001b\\\u001b[2m:\u001b[0m\u001b]8;id=850087;file:///s/babbage/b/nobackup/nblancha/merry/conda/envs/deja/lib/python3.9/site-packages/pyinaturalist/session.py#297\u001b\\\u001b[2m297\u001b[0m\u001b]8;;\u001b\\\n",
       "                          \u001b[1;33mGET\u001b[0m \u001b[4;94mhttps://api.inaturalist.org/v1/observations?\u001b[0m\u001b[4;94mtaxo\u001b[0m               \n",
       "                          \u001b[4;94mn_name\u001b[0m\u001b[4;94m=\u001b[0m\u001b[4;94mGolden\u001b[0m\u001b[4;94m+Indian+Paintbrush&\u001b[0m\u001b[4;94mid_above\u001b[0m\u001b[4;94m=\u001b[0m\u001b[4;94m120400643\u001b[0m\u001b[4;94m&\u001b[0m\u001b[4;94mp\u001b[0m               \n",
       "                          \u001b[4;94mer_page\u001b[0m\u001b[4;94m=\u001b[0m\u001b[4;94m200\u001b[0m\u001b[4;94m&\u001b[0m\u001b[4;94morder_by\u001b[0m\u001b[4;94m=\u001b[0m\u001b[4;94mid\u001b[0m\u001b[4;94m&\u001b[0m\u001b[4;94morder\u001b[0m\u001b[4;94m=\u001b[0m\u001b[4;94masc\u001b[0m                                  \n",
       "                          User-Agent: python-requests/\u001b[1;36m2.28\u001b[0m.\u001b[1;36m1\u001b[0m                                 \n",
       "                          pyinaturalist/\u001b[1;36m0.19\u001b[0m.\u001b[1;36m0\u001b[0m                                               \n",
       "                          Accept-Encoding: gzip, deflate, br                                 \n",
       "                          Accept: application/json                                           \n",
       "                          Connection: keep-alive                                             \n",
       "                                                                                             \n"
      ]
     },
     "metadata": {},
     "output_type": "display_data"
    },
    {
     "data": {
      "text/html": [
       "<pre style=\"white-space:pre;overflow-x:auto;line-height:normal;font-family:Menlo,'DejaVu Sans Mono',consolas,'Courier New',monospace\"><span style=\"color: #7fbfbf; text-decoration-color: #7fbfbf\">[04-03 12:49:04] </span><span style=\"color: #000080; text-decoration-color: #000080\">INFO    </span> Request:                                             <a href=\"file:///s/babbage/b/nobackup/nblancha/merry/conda/envs/deja/lib/python3.9/site-packages/pyinaturalist/session.py\"><span style=\"color: #7f7f7f; text-decoration-color: #7f7f7f\">session.py</span></a><span style=\"color: #7f7f7f; text-decoration-color: #7f7f7f\">:</span><a href=\"file:///s/babbage/b/nobackup/nblancha/merry/conda/envs/deja/lib/python3.9/site-packages/pyinaturalist/session.py#297\"><span style=\"color: #7f7f7f; text-decoration-color: #7f7f7f\">297</span></a>\n",
       "                          <span style=\"color: #808000; text-decoration-color: #808000; font-weight: bold\">GET</span> <span style=\"color: #0000ff; text-decoration-color: #0000ff; text-decoration: underline\">https://api.inaturalist.org/v1/observations?taxo</span>               \n",
       "                          <span style=\"color: #0000ff; text-decoration-color: #0000ff; text-decoration: underline\">n_name=Golden+Indian+Paintbrush&amp;id_above=162831711&amp;p</span>               \n",
       "                          <span style=\"color: #0000ff; text-decoration-color: #0000ff; text-decoration: underline\">er_page=200&amp;order_by=id&amp;order=asc</span>                                  \n",
       "                          User-Agent: python-requests/<span style=\"color: #008080; text-decoration-color: #008080; font-weight: bold\">2.28</span>.<span style=\"color: #008080; text-decoration-color: #008080; font-weight: bold\">1</span>                                 \n",
       "                          pyinaturalist/<span style=\"color: #008080; text-decoration-color: #008080; font-weight: bold\">0.19</span>.<span style=\"color: #008080; text-decoration-color: #008080; font-weight: bold\">0</span>                                               \n",
       "                          Accept-Encoding: gzip, deflate, br                                 \n",
       "                          Accept: application/json                                           \n",
       "                          Connection: keep-alive                                             \n",
       "                                                                                             \n",
       "</pre>\n"
      ],
      "text/plain": [
       "\u001b[2;36m[04-03 12:49:04]\u001b[0m\u001b[2;36m \u001b[0m\u001b[34mINFO    \u001b[0m Request:                                             \u001b]8;id=290520;file:///s/babbage/b/nobackup/nblancha/merry/conda/envs/deja/lib/python3.9/site-packages/pyinaturalist/session.py\u001b\\\u001b[2msession.py\u001b[0m\u001b]8;;\u001b\\\u001b[2m:\u001b[0m\u001b]8;id=421332;file:///s/babbage/b/nobackup/nblancha/merry/conda/envs/deja/lib/python3.9/site-packages/pyinaturalist/session.py#297\u001b\\\u001b[2m297\u001b[0m\u001b]8;;\u001b\\\n",
       "                          \u001b[1;33mGET\u001b[0m \u001b[4;94mhttps://api.inaturalist.org/v1/observations?\u001b[0m\u001b[4;94mtaxo\u001b[0m               \n",
       "                          \u001b[4;94mn_name\u001b[0m\u001b[4;94m=\u001b[0m\u001b[4;94mGolden\u001b[0m\u001b[4;94m+Indian+Paintbrush&\u001b[0m\u001b[4;94mid_above\u001b[0m\u001b[4;94m=\u001b[0m\u001b[4;94m162831711\u001b[0m\u001b[4;94m&\u001b[0m\u001b[4;94mp\u001b[0m               \n",
       "                          \u001b[4;94mer_page\u001b[0m\u001b[4;94m=\u001b[0m\u001b[4;94m200\u001b[0m\u001b[4;94m&\u001b[0m\u001b[4;94morder_by\u001b[0m\u001b[4;94m=\u001b[0m\u001b[4;94mid\u001b[0m\u001b[4;94m&\u001b[0m\u001b[4;94morder\u001b[0m\u001b[4;94m=\u001b[0m\u001b[4;94masc\u001b[0m                                  \n",
       "                          User-Agent: python-requests/\u001b[1;36m2.28\u001b[0m.\u001b[1;36m1\u001b[0m                                 \n",
       "                          pyinaturalist/\u001b[1;36m0.19\u001b[0m.\u001b[1;36m0\u001b[0m                                               \n",
       "                          Accept-Encoding: gzip, deflate, br                                 \n",
       "                          Accept: application/json                                           \n",
       "                          Connection: keep-alive                                             \n",
       "                                                                                             \n"
      ]
     },
     "metadata": {},
     "output_type": "display_data"
    }
   ],
   "source": [
    "# Replace with your own username\n",
    "USERNAME = 'iliananana'\n",
    "\n",
    "response = get_observations(taxon_name = \"Golden Indian Paintbrush\", page='all')\n",
    "my_observations = Observation.from_json_list(response)"
   ]
  },
  {
   "cell_type": "code",
   "execution_count": 15,
   "metadata": {},
   "outputs": [
    {
     "data": {
      "text/html": [
       "<pre style=\"white-space:pre;overflow-x:auto;line-height:normal;font-family:Menlo,'DejaVu Sans Mono',consolas,'Courier New',monospace\"><span style=\"color: #008080; text-decoration-color: #008080; font-weight: bold\">902</span>\n",
       "</pre>\n"
      ],
      "text/plain": [
       "\u001b[1;36m902\u001b[0m\n"
      ]
     },
     "metadata": {},
     "output_type": "display_data"
    }
   ],
   "source": [
    "print(len(my_observations))"
   ]
  },
  {
   "cell_type": "code",
   "execution_count": null,
   "metadata": {},
   "outputs": [],
   "source": []
  }
 ],
 "metadata": {
  "kernelspec": {
   "display_name": "Python 3",
   "language": "python",
   "name": "python3"
  },
  "language_info": {
   "codemirror_mode": {
    "name": "ipython",
    "version": 3
   },
   "file_extension": ".py",
   "mimetype": "text/x-python",
   "name": "python",
   "nbconvert_exporter": "python",
   "pygments_lexer": "ipython3",
   "version": "3.9.16"
  }
 },
 "nbformat": 4,
 "nbformat_minor": 2
}
